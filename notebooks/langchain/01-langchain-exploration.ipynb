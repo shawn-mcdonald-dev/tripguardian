{
 "cells": [
  {
   "cell_type": "code",
   "execution_count": 15,
   "id": "05ffa64b-2a5d-477f-b600-d0eeac323aac",
   "metadata": {},
   "outputs": [],
   "source": [
    "import os\n",
    "from dotenv import load_dotenv"
   ]
  },
  {
   "cell_type": "code",
   "execution_count": 16,
   "id": "052d1078-f757-4398-9fb2-699988ead0eb",
   "metadata": {},
   "outputs": [
    {
     "data": {
      "text/plain": [
       "True"
      ]
     },
     "execution_count": 16,
     "metadata": {},
     "output_type": "execute_result"
    }
   ],
   "source": [
    "load_dotenv()"
   ]
  },
  {
   "cell_type": "markdown",
   "id": "059f3b59-c63e-4c65-aa67-92cd00ad469c",
   "metadata": {
    "jp-MarkdownHeadingCollapsed": true
   },
   "source": [
    "## Using Chat Models\n",
    "https://python.langchain.com/docs/integrations/chat/"
   ]
  },
  {
   "cell_type": "code",
   "execution_count": 14,
   "id": "85adf0ec-f6ef-4390-b18f-a287b19afcae",
   "metadata": {},
   "outputs": [
    {
     "data": {
      "text/plain": [
       "AIMessage(content=\"The sky is the expanse above the Earth's surface, often appearing blue during the day due due to the scattering of sunlight by the atmosphere. It can also display a variety of colors and phenomena, such as sunrise, sunset, clouds, stars, and the moon.\", additional_kwargs={'refusal': None}, response_metadata={'token_usage': {'completion_tokens': 53, 'prompt_tokens': 10, 'total_tokens': 63, 'completion_tokens_details': {'accepted_prediction_tokens': 0, 'audio_tokens': 0, 'reasoning_tokens': 0, 'rejected_prediction_tokens': 0}, 'prompt_tokens_details': {'audio_tokens': 0, 'cached_tokens': 0}}, 'model_name': 'gpt-4.1-nano-2025-04-14', 'system_fingerprint': 'fp_f12167b370', 'id': 'chatcmpl-BmFBKBLy8VTlsrenZ4NFLbhKIWIJE', 'service_tier': 'default', 'finish_reason': 'stop', 'logprobs': None}, id='run--1ebfc6a3-d13c-49b7-b039-7132245699fd-0', usage_metadata={'input_tokens': 10, 'output_tokens': 53, 'total_tokens': 63, 'input_token_details': {'audio': 0, 'cache_read': 0}, 'output_token_details': {'audio': 0, 'reasoning': 0}})"
      ]
     },
     "execution_count": 14,
     "metadata": {},
     "output_type": "execute_result"
    }
   ],
   "source": [
    "from langchain.chat_models import init_chat_model\n",
    "\n",
    "model = init_chat_model(\"gpt-3.5-turbo\", model_provider=\"openai\")\n",
    "model.invoke(\"The sky is\")"
   ]
  },
  {
   "cell_type": "markdown",
   "id": "f92283b3-46a0-4789-a072-304bb877c134",
   "metadata": {},
   "source": [
    "## Using ChatOpenAI directly\n",
    "https://python.langchain.com/docs/integrations/chat/openai/"
   ]
  },
  {
   "cell_type": "code",
   "execution_count": 20,
   "id": "c0bddb28-46cb-43a5-8783-b7d4e14dd1b9",
   "metadata": {},
   "outputs": [],
   "source": [
    "from langchain_openai import ChatOpenAI\n",
    "\n",
    "model = ChatOpenAI(\n",
    "    model=\"gpt-3.5-turbo\",\n",
    "    temperature=0,\n",
    "    max_tokens=None,\n",
    "    timeout=None,\n",
    "    max_retries=2,\n",
    "    # base_url=\"...\",\n",
    "    # organization=\"...\",\n",
    "    # other params...\n",
    ")"
   ]
  },
  {
   "cell_type": "code",
   "execution_count": 18,
   "id": "4ad8de88-8208-439e-966e-cc0c34068651",
   "metadata": {},
   "outputs": [
    {
     "data": {
      "text/plain": [
       "AIMessage(content='Я люблю программирование.', additional_kwargs={'refusal': None}, response_metadata={'token_usage': {'completion_tokens': 5, 'prompt_tokens': 31, 'total_tokens': 36, 'completion_tokens_details': {'accepted_prediction_tokens': 0, 'audio_tokens': 0, 'reasoning_tokens': 0, 'rejected_prediction_tokens': 0}, 'prompt_tokens_details': {'audio_tokens': 0, 'cached_tokens': 0}}, 'model_name': 'gpt-4.1-nano-2025-04-14', 'system_fingerprint': 'fp_38343a2f8f', 'id': 'chatcmpl-BmFIJwWhLs9EXln1Gx70OEJgX7zOI', 'service_tier': 'default', 'finish_reason': 'stop', 'logprobs': None}, id='run--dde3531c-8fbe-40ee-aded-3e85daa50dc6-0', usage_metadata={'input_tokens': 31, 'output_tokens': 5, 'total_tokens': 36, 'input_token_details': {'audio': 0, 'cache_read': 0}, 'output_token_details': {'audio': 0, 'reasoning': 0}})"
      ]
     },
     "execution_count": 18,
     "metadata": {},
     "output_type": "execute_result"
    }
   ],
   "source": [
    "messages = [\n",
    "    (\n",
    "        \"system\",\n",
    "        \"You are a helpful assistant that translates English to Russian. Translate the user sentence.\",\n",
    "    ),\n",
    "    (\"human\", \"I love programming.\"),\n",
    "]\n",
    "ai_msg = model.invoke(messages)\n",
    "ai_msg"
   ]
  },
  {
   "cell_type": "markdown",
   "id": "8ada89c4-4336-4e6f-80f7-b45eb300dfcf",
   "metadata": {},
   "source": [
    "## LLM Roles\n",
    "\n",
    "**Human Message**\n",
    "A message sent from the perspective of the human, with the user role\n",
    "\n",
    "**AI Message**\n",
    "A message sent from the perspective of the AI that the human is interacting with, with the assistant role\n",
    "\n",
    "**System Message**\n",
    "A message setting the instructions the AI should follow, with the system role\n",
    "\n",
    "**Chat Message**\n",
    "A message allowing for arbitrary setting of role"
   ]
  },
  {
   "cell_type": "code",
   "execution_count": null,
   "id": "2d78d2f0-64bf-4448-92b3-f208487bed13",
   "metadata": {},
   "outputs": [],
   "source": [
    "from langchain_core.messages import HumanMessage, SystemMessage\n",
    "\n",
    "system_msg = SystemMessage(\n",
    "'''You are a helpful assistant that responds to questions with three exclamation marks.'''\n",
    ")\n",
    "human_msg = HumanMessage('What is the capital of France?')\n",
    "\n",
    "model.invoke([system_msg, human_msg])"
   ]
  },
  {
   "cell_type": "markdown",
   "id": "ae2aec17-ad16-4618-a64d-63ab686442c4",
   "metadata": {},
   "source": [
    "## Chaining\n",
    "Making LLMs dynamic"
   ]
  },
  {
   "cell_type": "code",
   "execution_count": 26,
   "id": "db6119ef-3c03-4ed6-a620-9cc5c9fcd631",
   "metadata": {},
   "outputs": [
    {
     "name": "stdout",
     "output_type": "stream",
     "text": [
      "content='OpenAI and Cohere offer Large Language Models (LLMs) through their libraries `openai` and `cohere`, respectively.' additional_kwargs={'refusal': None} response_metadata={'token_usage': {'completion_tokens': 27, 'prompt_tokens': 152, 'total_tokens': 179, 'completion_tokens_details': {'accepted_prediction_tokens': 0, 'audio_tokens': 0, 'reasoning_tokens': 0, 'rejected_prediction_tokens': 0}, 'prompt_tokens_details': {'audio_tokens': 0, 'cached_tokens': 0}}, 'model_name': 'gpt-3.5-turbo-0125', 'system_fingerprint': None, 'id': 'chatcmpl-BmG2VaBhaDKRZl5n8Vn3xYCDB2MHA', 'service_tier': 'default', 'finish_reason': 'stop', 'logprobs': None} id='run--c0d67699-199c-4bc3-8f25-08c6b0a5a9f0-0' usage_metadata={'input_tokens': 152, 'output_tokens': 27, 'total_tokens': 179, 'input_token_details': {'audio': 0, 'cache_read': 0}, 'output_token_details': {'audio': 0, 'reasoning': 0}}\n"
     ]
    }
   ],
   "source": [
    "# Define template to be reused be prompts\n",
    "template = ChatPromptTemplate.from_messages(\n",
    "    [\n",
    "        (\n",
    "            'system', \n",
    "            '''Answer the question based on the context below. If the\n",
    "            question cannot be answered using the information provided, answer with\n",
    "            \"I don\\'t know\".'''\n",
    "        ),\n",
    "        ('human', 'Context: {context}'),\n",
    "        ('human', 'Question: {question}'),\n",
    "    ]\n",
    ")\n",
    "\n",
    "# write prompts that fill in the variables from the template\n",
    "prompt = template.invoke(\n",
    "    {\n",
    "        \"context\": \"\"\"The most recent advancements in NLP are being driven by Large\n",
    "        Language Models (LLMs). These models outperform their smaller\n",
    "        counterparts and have become invaluable for developers who are creating\n",
    "        applications with NLP capabilities. Developers can tap into these\n",
    "        models through Hugging Face's `transformers` library, or by utilizing\n",
    "        OpenAI and Cohere's offerings through the `openai` and `cohere`\n",
    "        libraries, respectively.\"\"\",\n",
    "        \"question\": \"Which model providers offer LLMs?\"\n",
    "    }\n",
    ")\n",
    "# prompt2 = template.invoke(...)\n",
    "# prompt3 = template.invoke(...)\n",
    "# ...\n",
    "\n",
    "completion = model.invoke(prompt)\n",
    "print(completion)"
   ]
  },
  {
   "cell_type": "markdown",
   "id": "f3f88117-09ef-47ab-86ab-7ac813384334",
   "metadata": {},
   "source": [
    "## JSON Output\n",
    "\n",
    "1. Define a schema (Pydantic)\n",
    "2. The method `with_structured_output` will use that schema for two things:\n",
    "   - Schema is converted to JSONSchema object, which Langchain uses under the hood to put the best method with the LLM\n",
    "   - Schema will be used as a validation for the output of the LLM before returning it, ensuring the output is exactly what you want"
   ]
  },
  {
   "cell_type": "code",
   "execution_count": null,
   "id": "1f75bb8f-884e-4e49-90c0-a3b685eee669",
   "metadata": {},
   "outputs": [],
   "source": [
    "from langchain_core.pydantic_v1 import BaseModel\n",
    "\n",
    "class AnswerWithJustification(BaseModel):\n",
    "    '''An answer to the user's question along with justification for the answer.'''\n",
    "    \n",
    "    answer: str  # the answer to the user's question\n",
    "    justification: str  # justification for the answer\n",
    "    \n",
    "llm = ChatOpenAI(model=\"gpt-3.5-turbo\", temperature=0)\n",
    "structured_llm = llm.with_structured_output(AnswerWithJustification)\n",
    "structured_llm.invoke(\"\"\"What weighs more, a pound of bricks or a pound of feathers\"\"\")"
   ]
  },
  {
   "cell_type": "markdown",
   "id": "0a6afca5-94e3-4773-9d25-257bed35c14d",
   "metadata": {},
   "source": [
    "## Other Formats\n",
    "\n",
    "Can also convert LLM I/O's to any machine readable format (CSV, XML, etc.)"
   ]
  },
  {
   "cell_type": "code",
   "execution_count": null,
   "id": "270b9af5-b8dd-43db-9d58-466b536ed2cd",
   "metadata": {},
   "outputs": [],
   "source": [
    "from langchain_core.output_parsers import CommaSeparatedListOutputParser\n",
    "\n",
    "parser = CommaSeparatedListOutputParser()\n",
    "items = parser.invoke(\"apple, banana, cherry\")"
   ]
  },
  {
   "cell_type": "markdown",
   "id": "590ca6cd-7ef4-4450-a216-89ecacb8ffb6",
   "metadata": {},
   "source": [
    "## LangChain Output Methods\n",
    "\n",
    "- invoke: transforms a single input into an output\n",
    "- batch: efficiently transforms multiple inputs into multiple outputs\n",
    "- stream: streams output from a single input as it’s produced"
   ]
  },
  {
   "cell_type": "code",
   "execution_count": null,
   "id": "5e43d7a3-f02d-4883-9b7d-7a9bfe950df3",
   "metadata": {},
   "outputs": [],
   "source": [
    "completion = model.invoke('Hi there!')\n",
    "# Hi!\n",
    "\n",
    "completions = model.batch(['Hi there!', 'Bye!'])\n",
    "# ['Hi!', 'See you!']\n",
    "\n",
    "for token in model.stream('Bye!'):\n",
    "    print(token)\n",
    "# Good\n",
    "# bye\n",
    "# !"
   ]
  },
  {
   "cell_type": "markdown",
   "id": "b495606b-73d9-4333-bc92-69fd16937bc7",
   "metadata": {},
   "source": [
    "## Putting it all together"
   ]
  },
  {
   "cell_type": "code",
   "execution_count": null,
   "id": "3c2d1a19-d012-440f-97ca-fd4a89651e55",
   "metadata": {},
   "outputs": [],
   "source": [
    "from langchain_openai.chat_models import ChatOpenAI\n",
    "from langchain_core.prompts import ChatPromptTemplate\n",
    "from langchain_core.runnables import chain\n",
    "\n",
    "# the building blocks\n",
    "template = ChatPromptTemplate.from_messages([\n",
    "('system', 'You are a helpful assistant.'),\n",
    "('human', '{question}'),\n",
    "])\n",
    "model = ChatOpenAI(model=\"gpt-3.5-turbo\")\n",
    "\n",
    "# combine them in a function\n",
    "# @chain decorator adds the same Runnable interface for any function you write\n",
    "@chain\n",
    "def chatbot(values):\n",
    "    prompt = template.invoke(values)\n",
    "    return model.invoke(prompt)\n",
    "\n",
    "# use it\n",
    "chatbot.invoke({\"question\": \"Which model providers offer LLMs?\"})"
   ]
  },
  {
   "attachments": {
    "cccf02f3-8c98-4a37-a522-807b1738a17c.png": {
     "image/png": "[encoded data removed]"
    }
   },
   "cell_type": "markdown",
   "id": "0eb45bb5-18aa-4ce5-9a63-7ed4e07d8e21",
   "metadata": {},
   "source": [
    "## Imperative vs Declarative\n",
    "\n",
    "![image.png](attachment:cccf02f3-8c98-4a37-a522-807b1738a17c.png)"
   ]
  },
  {
   "cell_type": "markdown",
   "id": "b4fdd7bd-b2b6-41cb-a3b8-8844f9a24160",
   "metadata": {},
   "source": [
    "## Streaming & Async\n",
    "\n",
    "- Streaming: lets you see partial results sooner.\n",
    "- Async: allows concurrent execution, so you can do other things while waiting for a response."
   ]
  },
  {
   "cell_type": "code",
   "execution_count": null,
   "id": "4e81c7fe-e25e-4db8-a03a-0dea8661406d",
   "metadata": {},
   "outputs": [],
   "source": [
    "# Streaming\n",
    "\n",
    "@chain\n",
    "def chatbot(values):\n",
    "    prompt = template.invoke(values)\n",
    "    for token in model.stream(prompt):\n",
    "        yield token\n",
    "    \n",
    "for part in chatbot.stream({\n",
    "    \"question\": \"Which model providers offer LLMs?\"\n",
    "}):\n",
    "    print(part)"
   ]
  },
  {
   "cell_type": "code",
   "execution_count": null,
   "id": "fca846d5-39ab-441f-96b7-703d77033e35",
   "metadata": {},
   "outputs": [],
   "source": [
    "# Async\n",
    "\n",
    "@chain\n",
    "async def chatbot(values):\n",
    "    prompt = await template.ainvoke(values)\n",
    "    return await model.ainvoke(prompt)\n",
    "    \n",
    "await chatbot.ainvoke({\"question\": \"Which model providers offer LLMs?\"})"
   ]
  },
  {
   "cell_type": "code",
   "execution_count": null,
   "id": "10df0674-affd-4826-a3a9-951d5bf0e2dc",
   "metadata": {},
   "outputs": [],
   "source": [
    "# Putting both together\n",
    "# Example in FastAPI\n",
    "\n",
    "@app.post(\"/chat\")\n",
    "async def chat_endpoint(request: Request):\n",
    "    async def token_stream():\n",
    "        async for chunk in model.astream(prompt):\n",
    "            yield chunk.content\n",
    "\n",
    "    return StreamingResponse(token_stream(), media_type=\"text/plain\")"
   ]
  },
  {
   "cell_type": "markdown",
   "id": "d0f8fc4c-8aa3-44ef-8b57-022efcdeec28",
   "metadata": {},
   "source": [
    "## LCEL (automatic streaming, async, parallelism, etc.)"
   ]
  },
  {
   "cell_type": "code",
   "execution_count": null,
   "id": "eda8309b-d956-49be-b340-5cf1bb4a9b4f",
   "metadata": {},
   "outputs": [],
   "source": [
    "from langchain_openai.chat_models import ChatOpenAI\n",
    "from langchain_core.prompts import ChatPromptTemplate\n",
    "\n",
    "# the building blocks\n",
    "template = ChatPromptTemplate.from_messages([\n",
    "('system', 'You are a helpful assistant.'),\n",
    "('human', '{question}'),\n",
    "])\n",
    "\n",
    "# combine them with the | operator\n",
    "chatbot = template | model\n",
    "\n",
    "chatbot.invoke({\"question\": \"Which model providers offer LLMs?\"})"
   ]
  },
  {
   "cell_type": "code",
   "execution_count": null,
   "id": "7b71cc0b-32a3-4867-851d-5b6e2d984fa3",
   "metadata": {},
   "outputs": [],
   "source": [
    "# This is all that is necessary for streaming using LCEL\n",
    "for part in chatbot.stream({\n",
    "    \"question\": \"Which model providers offer LLMs?\"\n",
    "}):\n",
    "    print(part)"
   ]
  },
  {
   "cell_type": "code",
   "execution_count": null,
   "id": "9e1e139b-e86e-4b8b-8625-d9214d4047e5",
   "metadata": {},
   "outputs": [],
   "source": [
    "# And for async it is the same as before\n",
    "await chatbot.ainvoke({\n",
    "    \"questions\": \"Which model providers offer LLMs?\"\n",
    "})"
   ]
  }
 ],
 "metadata": {
  "kernelspec": {
   "display_name": "Python 3 (ipykernel)",
   "language": "python",
   "name": "python3"
  },
  "language_info": {
   "codemirror_mode": {
    "name": "ipython",
    "version": 3
   },
   "file_extension": ".py",
   "mimetype": "text/x-python",
   "name": "python",
   "nbconvert_exporter": "python",
   "pygments_lexer": "ipython3",
   "version": "3.11.13"
  }
 },
 "nbformat": 4,
 "nbformat_minor": 5
}
